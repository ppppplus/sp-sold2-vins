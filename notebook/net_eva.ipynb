{
 "cells": [
  {
   "cell_type": "code",
   "execution_count": 6,
   "metadata": {},
   "outputs": [
    {
     "name": "stdout",
     "output_type": "stream",
     "text": [
      "[INFO] Register count_convNd() for <class 'torch.nn.modules.conv.Conv2d'>.\n",
      "[INFO] Register count_normalization() for <class 'torch.nn.modules.batchnorm.BatchNorm2d'>.\n",
      "[INFO] Register zero_ops() for <class 'torch.nn.modules.activation.ReLU'>.\n",
      "[INFO] Register zero_ops() for <class 'torch.nn.modules.container.Sequential'>.\n",
      "[INFO] Register zero_ops() for <class 'torch.nn.modules.pooling.MaxPool2d'>.\n",
      "[INFO] Register zero_ops() for <class 'torch.nn.modules.pixelshuffle.PixelShuffle'>.\n",
      "FLOPs= 73.26208G\n",
      "params= 9.456813M\n"
     ]
    }
   ],
   "source": [
    "from kornia.feature import SOLD2\n",
    "import torch\n",
    "from thop import profile\n",
    "\n",
    "device = torch.device(\"cpu\")\n",
    "#input_shape of model,batch_size=1\n",
    "net = SOLD2(pretrained=True).cuda() ##定义好的网络模型\n",
    "\n",
    "input = torch.randn(1, 1, 400, 640).cuda()\n",
    "flops, params = profile(net, inputs=(input, ))\n",
    "\n",
    "print(\"FLOPs=\", str(flops/1e9) +'{}'.format(\"G\"))\n",
    "print(\"params=\", str(params/1e6)+'{}'.format(\"M\"))"
   ]
  },
  {
   "cell_type": "code",
   "execution_count": 20,
   "metadata": {},
   "outputs": [
    {
     "ename": "TypeError",
     "evalue": "summary() missing 1 required positional argument: 'input_size'",
     "output_type": "error",
     "traceback": [
      "\u001b[0;31m---------------------------------------------------------------------------\u001b[0m",
      "\u001b[0;31mTypeError\u001b[0m                                 Traceback (most recent call last)",
      "Cell \u001b[0;32mIn[20], line 4\u001b[0m\n\u001b[1;32m      2\u001b[0m net \u001b[39m=\u001b[39m SOLD2(pretrained\u001b[39m=\u001b[39m\u001b[39mTrue\u001b[39;00m)\u001b[39m.\u001b[39mcuda()\n\u001b[1;32m      3\u001b[0m \u001b[39minput\u001b[39m \u001b[39m=\u001b[39m torch\u001b[39m.\u001b[39mrandn(\u001b[39m1\u001b[39m, \u001b[39m1\u001b[39m, \u001b[39m752\u001b[39m, \u001b[39m480\u001b[39m)\n\u001b[0;32m----> 4\u001b[0m summary(net)  \u001b[39m# 输出网络结构\u001b[39;00m\n",
      "\u001b[0;31mTypeError\u001b[0m: summary() missing 1 required positional argument: 'input_size'"
     ]
    }
   ],
   "source": [
    "from torchsummary import summary\n",
    "net = SOLD2(pretrained=True).cuda()\n",
    "input = torch.randn(1, 1, 752, 480)\n",
    "summary(net)  # 输出网络结构\n"
   ]
  }
 ],
 "metadata": {
  "kernelspec": {
   "display_name": "DeepLSD",
   "language": "python",
   "name": "python3"
  },
  "language_info": {
   "codemirror_mode": {
    "name": "ipython",
    "version": 3
   },
   "file_extension": ".py",
   "mimetype": "text/x-python",
   "name": "python",
   "nbconvert_exporter": "python",
   "pygments_lexer": "ipython3",
   "version": "3.8.10"
  },
  "orig_nbformat": 4
 },
 "nbformat": 4,
 "nbformat_minor": 2
}
